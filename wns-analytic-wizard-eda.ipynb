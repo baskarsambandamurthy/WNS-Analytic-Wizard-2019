{
 "cells": [
  {
   "cell_type": "code",
   "execution_count": 1,
   "metadata": {
    "_cell_guid": "b1076dfc-b9ad-4769-8c92-a6c4dae69d19",
    "_uuid": "8f2839f25d086af736a60e9eeb907d3b93b6e0e5"
   },
   "outputs": [],
   "source": [
    "import gc\n",
    "import os\n",
    "import logging\n",
    "import datetime\n",
    "import warnings\n",
    "import numpy as np\n",
    "import pandas as pd\n",
    "import seaborn as sns\n",
    "import lightgbm as lgb\n",
    "from tqdm import tqdm_notebook\n",
    "import matplotlib.pyplot as plt\n",
    "from sklearn.metrics import mean_squared_error\n",
    "from sklearn.metrics import roc_auc_score, confusion_matrix\n",
    "\n",
    "from sklearn.calibration import CalibratedClassifierCV\n",
    "\n",
    "\n",
    "from sklearn.metrics import f1_score,precision_recall_curve,roc_curve, recall_score,precision_score\n",
    "\n",
    "from sklearn.model_selection import StratifiedKFold\n",
    "warnings.filterwarnings('ignore')"
   ]
  },
  {
   "cell_type": "code",
   "execution_count": 2,
   "metadata": {},
   "outputs": [
    {
     "name": "stderr",
     "output_type": "stream",
     "text": [
      "Using TensorFlow backend.\n"
     ]
    }
   ],
   "source": [
    "from imblearn.pipeline import make_pipeline as imbalanced_make_pipeline\n",
    "from imblearn.over_sampling import SMOTE\n",
    "from imblearn.under_sampling import NearMiss\n",
    "from imblearn.metrics import classification_report_imbalanced"
   ]
  },
  {
   "cell_type": "code",
   "execution_count": 3,
   "metadata": {},
   "outputs": [],
   "source": [
    "pd.set_option('display.max_columns',200)\n",
    "pd.set_option('display.max_rows',200)"
   ]
  },
  {
   "cell_type": "code",
   "execution_count": 4,
   "metadata": {},
   "outputs": [
    {
     "data": {
      "text/plain": [
       "['test_aq1fgdb', 'train_na17sgz', 'sample_submission_ipsblct']"
      ]
     },
     "execution_count": 4,
     "metadata": {},
     "output_type": "execute_result"
    }
   ],
   "source": [
    "import os\n",
    "os.listdir('../input/wns-analyticswizard')"
   ]
  },
  {
   "cell_type": "code",
   "execution_count": 5,
   "metadata": {
    "_cell_guid": "79c7e3d0-c299-4dcb-8224-4455121ee9b0",
    "_uuid": "d629ff2d2480ee46fbb7e2d37f6b5fab8052498a"
   },
   "outputs": [
    {
     "name": "stdout",
     "output_type": "stream",
     "text": [
      "CPU times: user 2.14 s, sys: 460 ms, total: 2.6 s\n",
      "Wall time: 2.61 s\n"
     ]
    }
   ],
   "source": [
    "%%time\n",
    "Path ='../input/wns-analyticswizard/'\n",
    "\n",
    "\n",
    "train_df = pd.read_csv(Path+'train_na17sgz/train.csv')\n",
    "test_df = pd.read_csv(Path+'test_aq1fgdb/test.csv')\n",
    "viewlog_df = pd.read_csv(Path+'train_na17sgz/view_log.csv')\n",
    "itemdata_df = pd.read_csv(Path+'train_na17sgz/item_data.csv')\n",
    "subm_df = pd.read_csv(Path+'sample_submission_ipsblct/sample_submission.csv')\n",
    "\n",
    "targetcol = 'is_click'\n",
    "target = train_df[targetcol]"
   ]
  },
  {
   "cell_type": "code",
   "execution_count": 6,
   "metadata": {},
   "outputs": [],
   "source": [
    "# subm_df.head()"
   ]
  },
  {
   "cell_type": "code",
   "execution_count": 7,
   "metadata": {},
   "outputs": [
    {
     "name": "stdout",
     "output_type": "stream",
     "text": [
      "(237609, 7) (90675, 6)\n",
      "0.3816143327904246\n"
     ]
    }
   ],
   "source": [
    "print(train_df.shape, test_df.shape)\n",
    "print(test_df.shape[0] / train_df.shape[0])"
   ]
  },
  {
   "cell_type": "code",
   "execution_count": 8,
   "metadata": {},
   "outputs": [
    {
     "name": "stdout",
     "output_type": "stream",
     "text": [
      "['old' 'latest' 'intermediate']\n",
      "237609\n",
      "74723\n",
      "490\n"
     ]
    },
    {
     "data": {
      "text/html": [
       "<div>\n",
       "<style scoped>\n",
       "    .dataframe tbody tr th:only-of-type {\n",
       "        vertical-align: middle;\n",
       "    }\n",
       "\n",
       "    .dataframe tbody tr th {\n",
       "        vertical-align: top;\n",
       "    }\n",
       "\n",
       "    .dataframe thead th {\n",
       "        text-align: right;\n",
       "    }\n",
       "</style>\n",
       "<table border=\"1\" class=\"dataframe\">\n",
       "  <thead>\n",
       "    <tr style=\"text-align: right;\">\n",
       "      <th></th>\n",
       "      <th>impression_id</th>\n",
       "      <th>impression_time</th>\n",
       "      <th>user_id</th>\n",
       "      <th>app_code</th>\n",
       "      <th>os_version</th>\n",
       "      <th>is_4G</th>\n",
       "      <th>is_click</th>\n",
       "    </tr>\n",
       "  </thead>\n",
       "  <tbody>\n",
       "    <tr>\n",
       "      <th>0</th>\n",
       "      <td>c4ca4238a0b923820dcc509a6f75849b</td>\n",
       "      <td>2018-11-15 00:00:00</td>\n",
       "      <td>87862</td>\n",
       "      <td>422</td>\n",
       "      <td>old</td>\n",
       "      <td>0</td>\n",
       "      <td>0</td>\n",
       "    </tr>\n",
       "    <tr>\n",
       "      <th>1</th>\n",
       "      <td>45c48cce2e2d7fbdea1afc51c7c6ad26</td>\n",
       "      <td>2018-11-15 00:01:00</td>\n",
       "      <td>63410</td>\n",
       "      <td>467</td>\n",
       "      <td>latest</td>\n",
       "      <td>1</td>\n",
       "      <td>1</td>\n",
       "    </tr>\n",
       "    <tr>\n",
       "      <th>2</th>\n",
       "      <td>70efdf2ec9b086079795c442636b55fb</td>\n",
       "      <td>2018-11-15 00:02:00</td>\n",
       "      <td>71748</td>\n",
       "      <td>259</td>\n",
       "      <td>intermediate</td>\n",
       "      <td>1</td>\n",
       "      <td>0</td>\n",
       "    </tr>\n",
       "    <tr>\n",
       "      <th>3</th>\n",
       "      <td>8e296a067a37563370ded05f5a3bf3ec</td>\n",
       "      <td>2018-11-15 00:02:00</td>\n",
       "      <td>69209</td>\n",
       "      <td>244</td>\n",
       "      <td>latest</td>\n",
       "      <td>1</td>\n",
       "      <td>0</td>\n",
       "    </tr>\n",
       "    <tr>\n",
       "      <th>4</th>\n",
       "      <td>182be0c5cdcd5072bb1864cdee4d3d6e</td>\n",
       "      <td>2018-11-15 00:02:00</td>\n",
       "      <td>62873</td>\n",
       "      <td>473</td>\n",
       "      <td>latest</td>\n",
       "      <td>0</td>\n",
       "      <td>0</td>\n",
       "    </tr>\n",
       "  </tbody>\n",
       "</table>\n",
       "</div>"
      ],
      "text/plain": [
       "                      impression_id      impression_time  user_id  app_code  \\\n",
       "0  c4ca4238a0b923820dcc509a6f75849b  2018-11-15 00:00:00    87862       422   \n",
       "1  45c48cce2e2d7fbdea1afc51c7c6ad26  2018-11-15 00:01:00    63410       467   \n",
       "2  70efdf2ec9b086079795c442636b55fb  2018-11-15 00:02:00    71748       259   \n",
       "3  8e296a067a37563370ded05f5a3bf3ec  2018-11-15 00:02:00    69209       244   \n",
       "4  182be0c5cdcd5072bb1864cdee4d3d6e  2018-11-15 00:02:00    62873       473   \n",
       "\n",
       "     os_version  is_4G  is_click  \n",
       "0           old      0         0  \n",
       "1        latest      1         1  \n",
       "2  intermediate      1         0  \n",
       "3        latest      1         0  \n",
       "4        latest      0         0  "
      ]
     },
     "execution_count": 8,
     "metadata": {},
     "output_type": "execute_result"
    }
   ],
   "source": [
    "print(train_df['os_version'].unique())\n",
    "print(train_df['impression_id'].nunique())\n",
    "print(train_df['user_id'].nunique())\n",
    "print(train_df['app_code'].nunique())\n",
    "train_df.head()"
   ]
  },
  {
   "cell_type": "code",
   "execution_count": 9,
   "metadata": {},
   "outputs": [
    {
     "data": {
      "text/plain": [
       "'2018-12-13 07:43:00'"
      ]
     },
     "execution_count": 9,
     "metadata": {},
     "output_type": "execute_result"
    }
   ],
   "source": [
    "train_df['impression_time'].min()\n",
    "train_df['impression_time'].max()"
   ]
  },
  {
   "cell_type": "code",
   "execution_count": 10,
   "metadata": {},
   "outputs": [
    {
     "name": "stdout",
     "output_type": "stream",
     "text": [
      "user_id\n",
      "0         42\n",
      "1          8\n",
      "2        165\n",
      "3          8\n",
      "4          2\n",
      "        ... \n",
      "92582     11\n",
      "92583      3\n",
      "92584      3\n",
      "92585      5\n",
      "92586     22\n",
      "Name: session_id, Length: 89157, dtype: int64\n",
      "2018-12-11 23:59:00\n"
     ]
    },
    {
     "data": {
      "text/html": [
       "<div>\n",
       "<style scoped>\n",
       "    .dataframe tbody tr th:only-of-type {\n",
       "        vertical-align: middle;\n",
       "    }\n",
       "\n",
       "    .dataframe tbody tr th {\n",
       "        vertical-align: top;\n",
       "    }\n",
       "\n",
       "    .dataframe thead th {\n",
       "        text-align: right;\n",
       "    }\n",
       "</style>\n",
       "<table border=\"1\" class=\"dataframe\">\n",
       "  <thead>\n",
       "    <tr style=\"text-align: right;\">\n",
       "      <th></th>\n",
       "      <th>server_time</th>\n",
       "      <th>device_type</th>\n",
       "      <th>session_id</th>\n",
       "      <th>user_id</th>\n",
       "      <th>item_id</th>\n",
       "    </tr>\n",
       "  </thead>\n",
       "  <tbody>\n",
       "    <tr>\n",
       "      <th>0</th>\n",
       "      <td>2018-10-15 08:58:00</td>\n",
       "      <td>android</td>\n",
       "      <td>112333</td>\n",
       "      <td>4557</td>\n",
       "      <td>32970</td>\n",
       "    </tr>\n",
       "    <tr>\n",
       "      <th>1</th>\n",
       "      <td>2018-10-15 08:58:00</td>\n",
       "      <td>android</td>\n",
       "      <td>503590</td>\n",
       "      <td>74788</td>\n",
       "      <td>7640</td>\n",
       "    </tr>\n",
       "    <tr>\n",
       "      <th>2</th>\n",
       "      <td>2018-10-15 08:58:00</td>\n",
       "      <td>android</td>\n",
       "      <td>573960</td>\n",
       "      <td>23628</td>\n",
       "      <td>128855</td>\n",
       "    </tr>\n",
       "    <tr>\n",
       "      <th>3</th>\n",
       "      <td>2018-10-15 08:58:00</td>\n",
       "      <td>android</td>\n",
       "      <td>121691</td>\n",
       "      <td>2430</td>\n",
       "      <td>12774</td>\n",
       "    </tr>\n",
       "    <tr>\n",
       "      <th>4</th>\n",
       "      <td>2018-10-15 08:58:00</td>\n",
       "      <td>android</td>\n",
       "      <td>218564</td>\n",
       "      <td>19227</td>\n",
       "      <td>28296</td>\n",
       "    </tr>\n",
       "  </tbody>\n",
       "</table>\n",
       "</div>"
      ],
      "text/plain": [
       "           server_time device_type  session_id  user_id  item_id\n",
       "0  2018-10-15 08:58:00     android      112333     4557    32970\n",
       "1  2018-10-15 08:58:00     android      503590    74788     7640\n",
       "2  2018-10-15 08:58:00     android      573960    23628   128855\n",
       "3  2018-10-15 08:58:00     android      121691     2430    12774\n",
       "4  2018-10-15 08:58:00     android      218564    19227    28296"
      ]
     },
     "execution_count": 10,
     "metadata": {},
     "output_type": "execute_result"
    }
   ],
   "source": [
    "print(viewlog_df.groupby('user_id')['session_id'].count())\n",
    "print(viewlog_df['server_time'].max())\n",
    "viewlog_df.head()\n"
   ]
  },
  {
   "cell_type": "code",
   "execution_count": 11,
   "metadata": {},
   "outputs": [
    {
     "data": {
      "text/html": [
       "<div>\n",
       "<style scoped>\n",
       "    .dataframe tbody tr th:only-of-type {\n",
       "        vertical-align: middle;\n",
       "    }\n",
       "\n",
       "    .dataframe tbody tr th {\n",
       "        vertical-align: top;\n",
       "    }\n",
       "\n",
       "    .dataframe thead th {\n",
       "        text-align: right;\n",
       "    }\n",
       "</style>\n",
       "<table border=\"1\" class=\"dataframe\">\n",
       "  <thead>\n",
       "    <tr style=\"text-align: right;\">\n",
       "      <th></th>\n",
       "      <th>impression_id</th>\n",
       "      <th>impression_time</th>\n",
       "      <th>user_id</th>\n",
       "      <th>app_code</th>\n",
       "      <th>os_version</th>\n",
       "      <th>is_4G</th>\n",
       "    </tr>\n",
       "  </thead>\n",
       "  <tbody>\n",
       "    <tr>\n",
       "      <th>0</th>\n",
       "      <td>a9e7126a585a69a32bc7414e9d0c0ada</td>\n",
       "      <td>2018-12-13 07:44:00</td>\n",
       "      <td>44754</td>\n",
       "      <td>127</td>\n",
       "      <td>latest</td>\n",
       "      <td>1</td>\n",
       "    </tr>\n",
       "    <tr>\n",
       "      <th>1</th>\n",
       "      <td>caac14a5bf2ba283db7708bb34855760</td>\n",
       "      <td>2018-12-13 07:45:00</td>\n",
       "      <td>29656</td>\n",
       "      <td>44</td>\n",
       "      <td>latest</td>\n",
       "      <td>0</td>\n",
       "    </tr>\n",
       "    <tr>\n",
       "      <th>2</th>\n",
       "      <td>13f10ba306a19ce7bec2f3cae507b698</td>\n",
       "      <td>2018-12-13 07:46:00</td>\n",
       "      <td>25234</td>\n",
       "      <td>296</td>\n",
       "      <td>latest</td>\n",
       "      <td>1</td>\n",
       "    </tr>\n",
       "    <tr>\n",
       "      <th>3</th>\n",
       "      <td>39c4b4dc0e9701b55a0a4f072008fb3f</td>\n",
       "      <td>2018-12-13 07:47:00</td>\n",
       "      <td>22988</td>\n",
       "      <td>207</td>\n",
       "      <td>latest</td>\n",
       "      <td>1</td>\n",
       "    </tr>\n",
       "    <tr>\n",
       "      <th>4</th>\n",
       "      <td>bf5a572cca75f5fc67f4b14e58b11d70</td>\n",
       "      <td>2018-12-13 07:48:00</td>\n",
       "      <td>35431</td>\n",
       "      <td>242</td>\n",
       "      <td>latest</td>\n",
       "      <td>1</td>\n",
       "    </tr>\n",
       "  </tbody>\n",
       "</table>\n",
       "</div>"
      ],
      "text/plain": [
       "                      impression_id      impression_time  user_id  app_code  \\\n",
       "0  a9e7126a585a69a32bc7414e9d0c0ada  2018-12-13 07:44:00    44754       127   \n",
       "1  caac14a5bf2ba283db7708bb34855760  2018-12-13 07:45:00    29656        44   \n",
       "2  13f10ba306a19ce7bec2f3cae507b698  2018-12-13 07:46:00    25234       296   \n",
       "3  39c4b4dc0e9701b55a0a4f072008fb3f  2018-12-13 07:47:00    22988       207   \n",
       "4  bf5a572cca75f5fc67f4b14e58b11d70  2018-12-13 07:48:00    35431       242   \n",
       "\n",
       "  os_version  is_4G  \n",
       "0     latest      1  \n",
       "1     latest      0  \n",
       "2     latest      1  \n",
       "3     latest      1  \n",
       "4     latest      1  "
      ]
     },
     "execution_count": 11,
     "metadata": {},
     "output_type": "execute_result"
    }
   ],
   "source": [
    "test_df.head()"
   ]
  },
  {
   "cell_type": "code",
   "execution_count": 12,
   "metadata": {},
   "outputs": [],
   "source": [
    "#check if there are any missing data.\n",
    "\n",
    "def missing_data(data):\n",
    "    total = data.isnull().sum()\n",
    "    percent = (data.isnull().sum()/data.isnull().count()*100)\n",
    "    tt = pd.concat([total, percent], axis=1, keys=['Total', 'Percent'])\n",
    "    types = []\n",
    "    for col in data.columns:\n",
    "        dtype = str(data[col].dtype)\n",
    "        types.append(dtype)\n",
    "    tt['Types'] = types\n",
    "    return(np.transpose(tt))"
   ]
  },
  {
   "cell_type": "code",
   "execution_count": 13,
   "metadata": {},
   "outputs": [
    {
     "name": "stdout",
     "output_type": "stream",
     "text": [
      "CPU times: user 104 ms, sys: 0 ns, total: 104 ms\n",
      "Wall time: 102 ms\n"
     ]
    },
    {
     "data": {
      "text/html": [
       "<div>\n",
       "<style scoped>\n",
       "    .dataframe tbody tr th:only-of-type {\n",
       "        vertical-align: middle;\n",
       "    }\n",
       "\n",
       "    .dataframe tbody tr th {\n",
       "        vertical-align: top;\n",
       "    }\n",
       "\n",
       "    .dataframe thead th {\n",
       "        text-align: right;\n",
       "    }\n",
       "</style>\n",
       "<table border=\"1\" class=\"dataframe\">\n",
       "  <thead>\n",
       "    <tr style=\"text-align: right;\">\n",
       "      <th></th>\n",
       "      <th>impression_id</th>\n",
       "      <th>impression_time</th>\n",
       "      <th>user_id</th>\n",
       "      <th>app_code</th>\n",
       "      <th>os_version</th>\n",
       "      <th>is_4G</th>\n",
       "      <th>is_click</th>\n",
       "    </tr>\n",
       "  </thead>\n",
       "  <tbody>\n",
       "    <tr>\n",
       "      <th>Total</th>\n",
       "      <td>0</td>\n",
       "      <td>0</td>\n",
       "      <td>0</td>\n",
       "      <td>0</td>\n",
       "      <td>0</td>\n",
       "      <td>0</td>\n",
       "      <td>0</td>\n",
       "    </tr>\n",
       "    <tr>\n",
       "      <th>Percent</th>\n",
       "      <td>0</td>\n",
       "      <td>0</td>\n",
       "      <td>0</td>\n",
       "      <td>0</td>\n",
       "      <td>0</td>\n",
       "      <td>0</td>\n",
       "      <td>0</td>\n",
       "    </tr>\n",
       "    <tr>\n",
       "      <th>Types</th>\n",
       "      <td>object</td>\n",
       "      <td>object</td>\n",
       "      <td>int64</td>\n",
       "      <td>int64</td>\n",
       "      <td>object</td>\n",
       "      <td>int64</td>\n",
       "      <td>int64</td>\n",
       "    </tr>\n",
       "  </tbody>\n",
       "</table>\n",
       "</div>"
      ],
      "text/plain": [
       "        impression_id impression_time user_id app_code os_version  is_4G  \\\n",
       "Total               0               0       0        0          0      0   \n",
       "Percent             0               0       0        0          0      0   \n",
       "Types          object          object   int64    int64     object  int64   \n",
       "\n",
       "        is_click  \n",
       "Total          0  \n",
       "Percent        0  \n",
       "Types      int64  "
      ]
     },
     "execution_count": 13,
     "metadata": {},
     "output_type": "execute_result"
    }
   ],
   "source": [
    "%%time\n",
    "missing_data(train_df)"
   ]
  },
  {
   "cell_type": "code",
   "execution_count": 14,
   "metadata": {},
   "outputs": [
    {
     "name": "stdout",
     "output_type": "stream",
     "text": [
      "CPU times: user 36 ms, sys: 4 ms, total: 40 ms\n",
      "Wall time: 39.5 ms\n"
     ]
    },
    {
     "data": {
      "text/html": [
       "<div>\n",
       "<style scoped>\n",
       "    .dataframe tbody tr th:only-of-type {\n",
       "        vertical-align: middle;\n",
       "    }\n",
       "\n",
       "    .dataframe tbody tr th {\n",
       "        vertical-align: top;\n",
       "    }\n",
       "\n",
       "    .dataframe thead th {\n",
       "        text-align: right;\n",
       "    }\n",
       "</style>\n",
       "<table border=\"1\" class=\"dataframe\">\n",
       "  <thead>\n",
       "    <tr style=\"text-align: right;\">\n",
       "      <th></th>\n",
       "      <th>impression_id</th>\n",
       "      <th>impression_time</th>\n",
       "      <th>user_id</th>\n",
       "      <th>app_code</th>\n",
       "      <th>os_version</th>\n",
       "      <th>is_4G</th>\n",
       "    </tr>\n",
       "  </thead>\n",
       "  <tbody>\n",
       "    <tr>\n",
       "      <th>Total</th>\n",
       "      <td>0</td>\n",
       "      <td>0</td>\n",
       "      <td>0</td>\n",
       "      <td>0</td>\n",
       "      <td>0</td>\n",
       "      <td>0</td>\n",
       "    </tr>\n",
       "    <tr>\n",
       "      <th>Percent</th>\n",
       "      <td>0</td>\n",
       "      <td>0</td>\n",
       "      <td>0</td>\n",
       "      <td>0</td>\n",
       "      <td>0</td>\n",
       "      <td>0</td>\n",
       "    </tr>\n",
       "    <tr>\n",
       "      <th>Types</th>\n",
       "      <td>object</td>\n",
       "      <td>object</td>\n",
       "      <td>int64</td>\n",
       "      <td>int64</td>\n",
       "      <td>object</td>\n",
       "      <td>int64</td>\n",
       "    </tr>\n",
       "  </tbody>\n",
       "</table>\n",
       "</div>"
      ],
      "text/plain": [
       "        impression_id impression_time user_id app_code os_version  is_4G\n",
       "Total               0               0       0        0          0      0\n",
       "Percent             0               0       0        0          0      0\n",
       "Types          object          object   int64    int64     object  int64"
      ]
     },
     "execution_count": 14,
     "metadata": {},
     "output_type": "execute_result"
    }
   ],
   "source": [
    "%%time\n",
    "missing_data(test_df)"
   ]
  },
  {
   "cell_type": "code",
   "execution_count": 15,
   "metadata": {},
   "outputs": [
    {
     "name": "stdout",
     "output_type": "stream",
     "text": [
      "CPU times: user 48 ms, sys: 4 ms, total: 52 ms\n",
      "Wall time: 51.2 ms\n"
     ]
    },
    {
     "data": {
      "text/html": [
       "<div>\n",
       "<style scoped>\n",
       "    .dataframe tbody tr th:only-of-type {\n",
       "        vertical-align: middle;\n",
       "    }\n",
       "\n",
       "    .dataframe tbody tr th {\n",
       "        vertical-align: top;\n",
       "    }\n",
       "\n",
       "    .dataframe thead th {\n",
       "        text-align: right;\n",
       "    }\n",
       "</style>\n",
       "<table border=\"1\" class=\"dataframe\">\n",
       "  <thead>\n",
       "    <tr style=\"text-align: right;\">\n",
       "      <th></th>\n",
       "      <th>user_id</th>\n",
       "      <th>app_code</th>\n",
       "      <th>is_4G</th>\n",
       "      <th>is_click</th>\n",
       "    </tr>\n",
       "  </thead>\n",
       "  <tbody>\n",
       "    <tr>\n",
       "      <th>count</th>\n",
       "      <td>237609.000000</td>\n",
       "      <td>237609.000000</td>\n",
       "      <td>237609.000000</td>\n",
       "      <td>237609.000000</td>\n",
       "    </tr>\n",
       "    <tr>\n",
       "      <th>mean</th>\n",
       "      <td>46454.526828</td>\n",
       "      <td>249.099971</td>\n",
       "      <td>0.361312</td>\n",
       "      <td>0.045714</td>\n",
       "    </tr>\n",
       "    <tr>\n",
       "      <th>std</th>\n",
       "      <td>26802.726666</td>\n",
       "      <td>135.213609</td>\n",
       "      <td>0.480382</td>\n",
       "      <td>0.208864</td>\n",
       "    </tr>\n",
       "    <tr>\n",
       "      <th>min</th>\n",
       "      <td>0.000000</td>\n",
       "      <td>0.000000</td>\n",
       "      <td>0.000000</td>\n",
       "      <td>0.000000</td>\n",
       "    </tr>\n",
       "    <tr>\n",
       "      <th>25%</th>\n",
       "      <td>23197.000000</td>\n",
       "      <td>163.000000</td>\n",
       "      <td>0.000000</td>\n",
       "      <td>0.000000</td>\n",
       "    </tr>\n",
       "    <tr>\n",
       "      <th>50%</th>\n",
       "      <td>46597.000000</td>\n",
       "      <td>213.000000</td>\n",
       "      <td>0.000000</td>\n",
       "      <td>0.000000</td>\n",
       "    </tr>\n",
       "    <tr>\n",
       "      <th>75%</th>\n",
       "      <td>69684.000000</td>\n",
       "      <td>385.000000</td>\n",
       "      <td>1.000000</td>\n",
       "      <td>0.000000</td>\n",
       "    </tr>\n",
       "    <tr>\n",
       "      <th>max</th>\n",
       "      <td>92586.000000</td>\n",
       "      <td>522.000000</td>\n",
       "      <td>1.000000</td>\n",
       "      <td>1.000000</td>\n",
       "    </tr>\n",
       "  </tbody>\n",
       "</table>\n",
       "</div>"
      ],
      "text/plain": [
       "             user_id       app_code          is_4G       is_click\n",
       "count  237609.000000  237609.000000  237609.000000  237609.000000\n",
       "mean    46454.526828     249.099971       0.361312       0.045714\n",
       "std     26802.726666     135.213609       0.480382       0.208864\n",
       "min         0.000000       0.000000       0.000000       0.000000\n",
       "25%     23197.000000     163.000000       0.000000       0.000000\n",
       "50%     46597.000000     213.000000       0.000000       0.000000\n",
       "75%     69684.000000     385.000000       1.000000       0.000000\n",
       "max     92586.000000     522.000000       1.000000       1.000000"
      ]
     },
     "execution_count": 15,
     "metadata": {},
     "output_type": "execute_result"
    }
   ],
   "source": [
    "%%time\n",
    "train_df.describe()"
   ]
  },
  {
   "cell_type": "code",
   "execution_count": 16,
   "metadata": {},
   "outputs": [
    {
     "name": "stdout",
     "output_type": "stream",
     "text": [
      "CPU times: user 24 ms, sys: 4 ms, total: 28 ms\n",
      "Wall time: 23.6 ms\n"
     ]
    },
    {
     "data": {
      "text/html": [
       "<div>\n",
       "<style scoped>\n",
       "    .dataframe tbody tr th:only-of-type {\n",
       "        vertical-align: middle;\n",
       "    }\n",
       "\n",
       "    .dataframe tbody tr th {\n",
       "        vertical-align: top;\n",
       "    }\n",
       "\n",
       "    .dataframe thead th {\n",
       "        text-align: right;\n",
       "    }\n",
       "</style>\n",
       "<table border=\"1\" class=\"dataframe\">\n",
       "  <thead>\n",
       "    <tr style=\"text-align: right;\">\n",
       "      <th></th>\n",
       "      <th>user_id</th>\n",
       "      <th>app_code</th>\n",
       "      <th>is_4G</th>\n",
       "    </tr>\n",
       "  </thead>\n",
       "  <tbody>\n",
       "    <tr>\n",
       "      <th>count</th>\n",
       "      <td>90675.00000</td>\n",
       "      <td>90675.000000</td>\n",
       "      <td>90675.000000</td>\n",
       "    </tr>\n",
       "    <tr>\n",
       "      <th>mean</th>\n",
       "      <td>46417.71013</td>\n",
       "      <td>254.793703</td>\n",
       "      <td>0.357872</td>\n",
       "    </tr>\n",
       "    <tr>\n",
       "      <th>std</th>\n",
       "      <td>26835.33356</td>\n",
       "      <td>133.411434</td>\n",
       "      <td>0.479377</td>\n",
       "    </tr>\n",
       "    <tr>\n",
       "      <th>min</th>\n",
       "      <td>1.00000</td>\n",
       "      <td>0.000000</td>\n",
       "      <td>0.000000</td>\n",
       "    </tr>\n",
       "    <tr>\n",
       "      <th>25%</th>\n",
       "      <td>23029.00000</td>\n",
       "      <td>190.000000</td>\n",
       "      <td>0.000000</td>\n",
       "    </tr>\n",
       "    <tr>\n",
       "      <th>50%</th>\n",
       "      <td>46557.00000</td>\n",
       "      <td>213.000000</td>\n",
       "      <td>0.000000</td>\n",
       "    </tr>\n",
       "    <tr>\n",
       "      <th>75%</th>\n",
       "      <td>69764.50000</td>\n",
       "      <td>386.000000</td>\n",
       "      <td>1.000000</td>\n",
       "    </tr>\n",
       "    <tr>\n",
       "      <th>max</th>\n",
       "      <td>92586.00000</td>\n",
       "      <td>522.000000</td>\n",
       "      <td>1.000000</td>\n",
       "    </tr>\n",
       "  </tbody>\n",
       "</table>\n",
       "</div>"
      ],
      "text/plain": [
       "           user_id      app_code         is_4G\n",
       "count  90675.00000  90675.000000  90675.000000\n",
       "mean   46417.71013    254.793703      0.357872\n",
       "std    26835.33356    133.411434      0.479377\n",
       "min        1.00000      0.000000      0.000000\n",
       "25%    23029.00000    190.000000      0.000000\n",
       "50%    46557.00000    213.000000      0.000000\n",
       "75%    69764.50000    386.000000      1.000000\n",
       "max    92586.00000    522.000000      1.000000"
      ]
     },
     "execution_count": 16,
     "metadata": {},
     "output_type": "execute_result"
    }
   ],
   "source": [
    "%%time\n",
    "test_df.describe()"
   ]
  },
  {
   "cell_type": "code",
   "execution_count": 17,
   "metadata": {},
   "outputs": [
    {
     "data": {
      "text/plain": [
       "<matplotlib.axes._subplots.AxesSubplot at 0x7fc2b26a3e48>"
      ]
     },
     "execution_count": 17,
     "metadata": {},
     "output_type": "execute_result"
    },
    {
     "data": {
      "image/png": "[encoded data removed]",
      "text/plain": [
       "<Figure size 432x288 with 1 Axes>"
      ]
     },
     "metadata": {
      "needs_background": "light"
     },
     "output_type": "display_data"
    }
   ],
   "source": [
    "sns.countplot(train_df[targetcol])"
   ]
  },
  {
   "cell_type": "code",
   "execution_count": 18,
   "metadata": {},
   "outputs": [
    {
     "name": "stdout",
     "output_type": "stream",
     "text": [
      "There are 4.571375663379754% target values with 1\n"
     ]
    }
   ],
   "source": [
    "print(\"There are {}% target values with 1\".format(100 * train_df[targetcol].value_counts()[1]/train_df.shape[0]))"
   ]
  },
  {
   "cell_type": "markdown",
   "metadata": {},
   "source": [
    "Density Plots"
   ]
  },
  {
   "cell_type": "code",
   "execution_count": 19,
   "metadata": {},
   "outputs": [],
   "source": [
    "def plot_feature_distribution(df1, df2, label1, label2, features,rows=6,cols=4):\n",
    "    i = 0\n",
    "    sns.set_style('whitegrid')\n",
    "    plt.figure()\n",
    "    fig, ax = plt.subplots(10,4,figsize=(18,22))\n",
    "\n",
    "    for feature in features:\n",
    "        print('cur feature:',feature)\n",
    "        i += 1\n",
    "        plt.subplot(rows,cols,i)\n",
    "        sns.kdeplot(df1[feature], bw=0.5,label=label1)\n",
    "        sns.kdeplot(df2[feature], bw=0.5,label=label2)\n",
    "        plt.xlabel(feature, fontsize=9)\n",
    "        locs, labels = plt.xticks()\n",
    "        plt.tick_params(axis='x', which='major', labelsize=6, pad=-6)\n",
    "        plt.tick_params(axis='y', which='major', labelsize=6)\n",
    "    plt.show();"
   ]
  },
  {
   "cell_type": "markdown",
   "metadata": {},
   "source": [
    "Duplicate Values"
   ]
  },
  {
   "cell_type": "code",
   "execution_count": 20,
   "metadata": {},
   "outputs": [
    {
     "data": {
      "text/plain": [
       "7"
      ]
     },
     "execution_count": 20,
     "metadata": {},
     "output_type": "execute_result"
    }
   ],
   "source": [
    "len(list(train_df.columns))"
   ]
  },
  {
   "cell_type": "code",
   "execution_count": 21,
   "metadata": {},
   "outputs": [
    {
     "name": "stdout",
     "output_type": "stream",
     "text": [
      "CPU times: user 0 ns, sys: 0 ns, total: 0 ns\n",
      "Wall time: 134 µs\n"
     ]
    }
   ],
   "source": [
    "%%time\n",
    "features = train_df.columns.values[1:40]\n",
    "exclude_cols =['loan_id','financial_institution','origination_date',\n",
    "               'first_payment_date','loan_purpose','source',targetcol]\n",
    "features = [col for col in train_df.columns if col not in exclude_cols]\n",
    "\n",
    "# unique_max_train = []\n",
    "# unique_max_test = []\n",
    "# for feature in features:\n",
    "#     values = train_df[feature].value_counts()\n",
    "#     unique_max_train.append([feature, values.max(), values.idxmax()])\n",
    "#     values = test_df[feature].value_counts()\n",
    "#     unique_max_test.append([feature, values.max(), values.idxmax()])"
   ]
  },
  {
   "cell_type": "code",
   "execution_count": 22,
   "metadata": {},
   "outputs": [],
   "source": [
    "# np.transpose((pd.DataFrame(unique_max_train, columns=['Feature', 'Max duplicates', 'Value'])).\\\n",
    "#             sort_values(by = 'Max duplicates', ascending=False).head(40))"
   ]
  },
  {
   "cell_type": "code",
   "execution_count": 23,
   "metadata": {},
   "outputs": [],
   "source": [
    "# np.transpose((pd.DataFrame(unique_max_test, columns=['Feature', 'Max duplicates', 'Value'])).\\\n",
    "#             sort_values(by = 'Max duplicates', ascending=False).head(15))"
   ]
  },
  {
   "cell_type": "markdown",
   "metadata": {},
   "source": [
    "Model"
   ]
  },
  {
   "cell_type": "code",
   "execution_count": 24,
   "metadata": {},
   "outputs": [],
   "source": [
    "# exclude_cols =['Date.of.Birth','Employment.Type','DisbursalDate',\n",
    "#                'PERFORM_CNS.SCORE.DESCRIPTION','AVERAGE.ACCT.AGE','CREDIT.HISTORY.LENGTH',\n",
    "#                'UniqueID',targetcol]\n",
    "# features = [c for c in train_df.columns if c not in exclude_cols]\n",
    "# print(features)"
   ]
  },
  {
   "cell_type": "code",
   "execution_count": 25,
   "metadata": {},
   "outputs": [
    {
     "name": "stdout",
     "output_type": "stream",
     "text": [
      "                      impression_id      impression_time  user_id  app_code  \\\n",
      "0  c4ca4238a0b923820dcc509a6f75849b  2018-11-15 00:00:00    87862       422   \n",
      "1  45c48cce2e2d7fbdea1afc51c7c6ad26  2018-11-15 00:01:00    63410       467   \n",
      "2  70efdf2ec9b086079795c442636b55fb  2018-11-15 00:02:00    71748       259   \n",
      "3  8e296a067a37563370ded05f5a3bf3ec  2018-11-15 00:02:00    69209       244   \n",
      "4  182be0c5cdcd5072bb1864cdee4d3d6e  2018-11-15 00:02:00    62873       473   \n",
      "\n",
      "     os_version  is_4G  is_click  os_version_intermediate  os_version_latest  \\\n",
      "0           old      0         0                        0                  0   \n",
      "1        latest      1         1                        0                  1   \n",
      "2  intermediate      1         0                        1                  0   \n",
      "3        latest      1         0                        0                  1   \n",
      "4        latest      0         0                        0                  1   \n",
      "\n",
      "   os_version_old  \n",
      "0               1  \n",
      "1               0  \n",
      "2               0  \n",
      "3               0  \n",
      "4               0  \n",
      "                      impression_id      impression_time  user_id  app_code  \\\n",
      "0  a9e7126a585a69a32bc7414e9d0c0ada  2018-12-13 07:44:00    44754       127   \n",
      "1  caac14a5bf2ba283db7708bb34855760  2018-12-13 07:45:00    29656        44   \n",
      "2  13f10ba306a19ce7bec2f3cae507b698  2018-12-13 07:46:00    25234       296   \n",
      "3  39c4b4dc0e9701b55a0a4f072008fb3f  2018-12-13 07:47:00    22988       207   \n",
      "4  bf5a572cca75f5fc67f4b14e58b11d70  2018-12-13 07:48:00    35431       242   \n",
      "\n",
      "  os_version  is_4G  os_version_intermediate  os_version_latest  \\\n",
      "0     latest      1                        0                  1   \n",
      "1     latest      0                        0                  1   \n",
      "2     latest      1                        0                  1   \n",
      "3     latest      1                        0                  1   \n",
      "4     latest      1                        0                  1   \n",
      "\n",
      "   os_version_old  \n",
      "0               0  \n",
      "1               0  \n",
      "2               0  \n",
      "3               0  \n",
      "4               0  \n"
     ]
    }
   ],
   "source": [
    "#generate new features\n",
    "train_df['istrain']=1\n",
    "test_df['istrain']=0\n",
    "catcols =['os_version']\n",
    "combined= pd.concat([train_df,test_df],axis=0)\n",
    "# combined = pd.get_dummies(combined[features + catcols + ['istrain']])\n",
    "combined = pd.get_dummies(combined[ catcols + ['istrain']])\n",
    "\n",
    "train_dummies = combined[combined['istrain']==1]\n",
    "test_dummies = combined[combined['istrain']==0]\n",
    "\n",
    "del combined, train_dummies['istrain'],test_dummies['istrain'], train_df['istrain'], test_df['istrain']\n",
    "\n",
    "train_df= pd.concat([train_df,train_dummies],axis=1)\n",
    "test_df= pd.concat([test_df,test_dummies],axis=1)\n",
    "\n",
    "\n",
    "print(train_df.head())\n",
    "print(test_df.head())\n",
    "\n",
    "#categorical to dummies"
   ]
  },
  {
   "cell_type": "code",
   "execution_count": 26,
   "metadata": {},
   "outputs": [
    {
     "name": "stdout",
     "output_type": "stream",
     "text": [
      "      impression_time  impression_year  impression_month  impression_day  \\\n",
      "0 2018-11-15 00:00:00             2018                11              15   \n",
      "1 2018-11-15 00:01:00             2018                11              15   \n",
      "2 2018-11-15 00:02:00             2018                11              15   \n",
      "3 2018-11-15 00:02:00             2018                11              15   \n",
      "4 2018-11-15 00:02:00             2018                11              15   \n",
      "\n",
      "   impression_hour  \n",
      "0                0  \n",
      "1                0  \n",
      "2                0  \n",
      "3                0  \n",
      "4                0  \n",
      "      impression_time  impression_year  impression_month  impression_day  \\\n",
      "0 2018-12-13 07:44:00             2018                12              13   \n",
      "1 2018-12-13 07:45:00             2018                12              13   \n",
      "2 2018-12-13 07:46:00             2018                12              13   \n",
      "3 2018-12-13 07:47:00             2018                12              13   \n",
      "4 2018-12-13 07:48:00             2018                12              13   \n",
      "\n",
      "   impression_hour  \n",
      "0                7  \n",
      "1                7  \n",
      "2                7  \n",
      "3                7  \n",
      "4                7  \n"
     ]
    }
   ],
   "source": [
    "#generate date features\n",
    "def gen_date_feats(data,orig_date_format):\n",
    "    data['impression_time']= pd.to_datetime(data['impression_time'],format=orig_date_format)\n",
    "    data['impression_year']=data['impression_time'].dt.year\n",
    "    data['impression_month']=data['impression_time'].dt.month\n",
    "    data['impression_day']=data['impression_time'].dt.day\n",
    "    data['impression_hour']=data['impression_time'].dt.hour\n",
    "    \n",
    "    return data\n",
    "\n",
    "timeformat = '%Y-%m-%d %H:%M:%S'\n",
    "train_df = gen_date_feats(train_df,timeformat)\n",
    "test_df = gen_date_feats(test_df,timeformat)\n",
    "\n",
    "cols = ['impression_time','impression_year','impression_month','impression_day',\n",
    "        'impression_hour']\n",
    "print(train_df[cols].head())\n",
    "print(test_df[cols].head())"
   ]
  },
  {
   "cell_type": "code",
   "execution_count": 27,
   "metadata": {},
   "outputs": [],
   "source": [
    "#convert cols to 'categorical' for model\n",
    "for df in [train_df,test_df]:\n",
    "    df['app_code'] = df['app_code'].astype('category')"
   ]
  },
  {
   "cell_type": "code",
   "execution_count": 28,
   "metadata": {},
   "outputs": [
    {
     "name": "stdout",
     "output_type": "stream",
     "text": [
      "10\n",
      "['user_id', 'app_code', 'is_4G', 'os_version_intermediate', 'os_version_latest', 'os_version_old', 'impression_year', 'impression_month', 'impression_day', 'impression_hour']\n"
     ]
    }
   ],
   "source": [
    "t0 = train_df.loc[train_df[targetcol] == 0]\n",
    "t1 = train_df.loc[train_df[targetcol] == 1]\n",
    "exclude_cols =['impression_id','os_version','impression_time',targetcol]\n",
    "features = [col for col in train_df.columns if col not in exclude_cols]\n",
    "\n",
    "print(len(features))\n",
    "print(features)"
   ]
  },
  {
   "cell_type": "code",
   "execution_count": 29,
   "metadata": {},
   "outputs": [
    {
     "name": "stdout",
     "output_type": "stream",
     "text": [
      "cur feature: user_id\n",
      "cur feature: app_code\n",
      "cur feature: is_4G\n",
      "cur feature: os_version_intermediate\n",
      "cur feature: os_version_latest\n",
      "cur feature: os_version_old\n",
      "cur feature: impression_year\n",
      "cur feature: impression_month\n",
      "cur feature: impression_day\n",
      "cur feature: impression_hour\n"
     ]
    },
    {
     "data": {
      "text/plain": [
       "<Figure size 432x288 with 0 Axes>"
      ]
     },
     "metadata": {},
     "output_type": "display_data"
    },
    {
     "data": {
      "image/png": "[encoded data removed]",
      "text/plain": [
       "<Figure size 1296x1584 with 32 Axes>"
      ]
     },
     "metadata": {},
     "output_type": "display_data"
    }
   ],
   "source": [
    "# features = train_df.columns.values[1:40]\n",
    "plot_feature_distribution(t0, t1, '0', '1', features)"
   ]
  },
  {
   "cell_type": "code",
   "execution_count": 30,
   "metadata": {},
   "outputs": [],
   "source": [
    "# param = {\n",
    "#     'bagging_freq': 5,\n",
    "#     'bagging_fraction': 0.4,\n",
    "#     'boost_from_average':'false',\n",
    "#     'boost': 'gbdt',\n",
    "#     'feature_fraction': 0.05,\n",
    "#     'learning_rate': 0.01,\n",
    "#     'max_depth': -1,  \n",
    "#     'metric':'auc',\n",
    "#     'min_data_in_leaf': 80,\n",
    "#     'min_sum_hessian_in_leaf': 10.0,\n",
    "#     'num_leaves': 13,\n",
    "#     'num_threads': 8,\n",
    "#     'tree_learner': 'serial',\n",
    "#     'objective': 'binary', \n",
    "#     'verbosity': 1\n",
    "# }"
   ]
  },
  {
   "cell_type": "code",
   "execution_count": 31,
   "metadata": {},
   "outputs": [],
   "source": [
    "param = {\n",
    "         'num_leaves': 31,\n",
    "         'min_data_in_leaf': 30, \n",
    "         'objective':'binary',\n",
    "#          'objective':'None',\n",
    "         'max_depth': -1,\n",
    "         'learning_rate': 0.01,\n",
    "         \"boosting\": \"gbdt\",\n",
    "         \"feature_fraction\": 0.9,\n",
    "         \"bagging_freq\": 1,\n",
    "         \"bagging_fraction\": 0.9 ,\n",
    "         \"bagging_seed\": 11,\n",
    "         \"metric\": 'AUC',\n",
    "         \"scale_pos_weight\": 2,\n",
    "#          \"is_unbalance\": True,\n",
    "         \"lambda_l1\": 0.1,\n",
    "#          \"lambda_l1\": 0.7,\n",
    "#          \"lambda_l2\": 0.7,\n",
    "         \"verbosity\": -1,\n",
    "         \"nthread\": 4,\n",
    "         'n_estimators' : 10000,\n",
    "         \"random_state\": 4590}\n",
    "\n",
    "\n",
    "early_stopping_rounds = 300"
   ]
  },
  {
   "cell_type": "code",
   "execution_count": 32,
   "metadata": {},
   "outputs": [],
   "source": [
    "#  param=  {\n",
    "#     'colsample_bytree':0.759164331,\n",
    "#     'min_child_samples':85,\n",
    "#     'num_leaves':20,\n",
    "#     'reg_alpha':0.155214401,\n",
    "#     'reg_lambda':0.594730243,\n",
    "#     'subsample':0.867816493,\n",
    "#     'subsample_for_bin':150000,\n",
    "#     'learning_rate': 0.01,\n",
    "#     'boosting': 'gbdt',\n",
    "#     'bagging_seed': 2019,\n",
    "#     'bagging_freq': 2,\n",
    "#     'min_data_in_bin': 100,\n",
    "#     'n_estimators': 10000,\n",
    "#     'objective': 'binary',\n",
    "#     'metric': 'None',\n",
    "#     'random_state': 2333,\n",
    "#     'max_depth': 15,\n",
    "#     'scale_pos_weight': 2\n",
    "#     }"
   ]
  },
  {
   "cell_type": "code",
   "execution_count": 33,
   "metadata": {},
   "outputs": [],
   "source": [
    "early_stopping_rounds = 300"
   ]
  },
  {
   "cell_type": "code",
   "execution_count": 34,
   "metadata": {},
   "outputs": [],
   "source": [
    "def lgb_logle_obj(preds, train_data):\n",
    "    labels = train_data.get_label()\n",
    "    residual = (labels - preds).astype(\"float\")\n",
    "    \n",
    "    preds = 1.0 / (1.0 + np.exp(-preds))\n",
    "    grad_part = preds - labels\n",
    "    \n",
    "    grad = np.where(residual>0.7, 10.0*grad_part, grad_part)\n",
    "    hess_part = preds * (1.0 - preds)\n",
    "    hess = np.where(residual>0.7, 10.0*hess_part, hess_part)\n",
    "    return grad, hess\n",
    "\n",
    "def lgb_logle(preds, train_data):\n",
    "    labels = train_data.get_label()\n",
    "    # return a pair metric_name, result\n",
    "    # since preds are margin(before logistic transformation, cutoff at 0)\n",
    "    \n",
    "    residual = (labels - preds).astype(\"float\")\n",
    "    \n",
    "#     optcutoff,f1score = get_opt_cutoff_fbeta(labels,preds)\n",
    "#     optcutoff =0.0\n",
    "    loss_part = float(sum(labels != (preds > 0.0))) / len(labels)\n",
    "#     loss_part = (labels != (preds > 0.0)).astype(\"float\")\n",
    "\n",
    "    loss = np.where(residual>0.7, 10.0*loss_part, loss_part) \n",
    "\n",
    "    return 'log likelihood error', np.mean(loss), False\n",
    "def lgb_sk_logle(labels, preds):\n",
    "    residual = (labels - preds).astype(\"float\")\n",
    "    loss_part = float(sum(labels != (preds > 0.0))) / len(labels)\n",
    "    loss = np.where(residual>0.7, 10.0*loss_part, loss_part) \n",
    "  \n",
    "    return 'log likelihood error', np.mean(loss), False\n",
    "\n",
    "def get_f1loss_score(labels,preds):\n",
    "    optcutoff,f1score = get_opt_cutoff_prec(labels,preds)\n",
    "    f1loss = 1 - f1score\n",
    "    return f1loss\n",
    "\n",
    "def lgb_fbeta(preds, train_data):\n",
    "    labels = train_data.get_label()\n",
    "\n",
    "    optcutoff,fscore = get_opt_cutoff_fbeta(labels,preds,beta=100)\n",
    "    return 'fbeta_score', fscore, True\n",
    "\n",
    "def lgb_fbeta_auc(preds, train_data):\n",
    "    labels = train_data.get_label()\n",
    "\n",
    "    optcutoff,fscore = get_opt_cutoff_fbeta(labels,preds,beta=100)\n",
    "    aucscore = roc_auc_score(labels,preds)\n",
    "    return 'fbeta_auc_score', fscore+aucscore, True\n",
    "\n",
    "def lgb_f1_auc(preds, train_data):\n",
    "    labels = train_data.get_label()\n",
    "    optcutoff,f1score = get_opt_cutoff_prec(labels,preds)\n",
    "    aucscore = roc_auc_score(labels,preds)\n",
    "    return 'f1auc_score', f1score+aucscore, True\n",
    "\n",
    "def lgb_f1(preds, train_data):\n",
    "    labels = train_data.get_label()\n",
    "#     preds = preds.reshape(-1, 2)\n",
    "#     print('preds before :',preds[0:10])\n",
    "#     preds = preds.argmax(axis = 1)\n",
    "#     preds = preds.min(axis = 1)\n",
    "#     f1score = f1_score(preds, labels, average = 'micro')\n",
    "    optcutoff,f1score = get_opt_cutoff_prec(labels,preds)\n",
    "    \n",
    "#     bscore = brier_score_loss(labels,preds) \n",
    "#     bss = 1- (bscore/0.010944928684627575) \n",
    "    return 'f1_score', f1score, True\n",
    "\n",
    "def convert_probtolabels(preds,cutoff=0.5):\n",
    "    y_bin= preds.copy()\n",
    "    y_bin[preds>cutoff] = 1\n",
    "    y_bin[preds<=cutoff] = 0\n",
    "    y_bin=y_bin.astype(int)\n",
    "\n",
    "    return y_bin\n",
    "\n",
    "def get_opt_cutoff_fbeta(labels,preds,beta=5):\n",
    "    precision, recall, thresholds  = precision_recall_curve(labels, preds)\n",
    "    beta_square = beta**2\n",
    "    f_score= (1+beta_square)*((precision*recall)/(beta_square*precision+recall))\n",
    "    optimal_idx = np.nanargmax(f_score)\n",
    "    optimal_threshold = thresholds[optimal_idx]\n",
    "    return optimal_threshold, f_score[optimal_idx]\n",
    "\n",
    "def get_opt_cutoff_prec(labels,preds):\n",
    "    precision, recall, thresholds  = precision_recall_curve(labels, preds)\n",
    "    f1_score= 2*((precision*recall)/(precision+recall))\n",
    "    optimal_idx = np.nanargmax(f1_score)\n",
    "    optimal_threshold = thresholds[optimal_idx]\n",
    "    return optimal_threshold, f1_score[optimal_idx]\n",
    "def computef1scoreandconfmatrix(y_true,y_preds):    \n",
    "    opt_cutoff, f1score = get_opt_cutoff_prec(y_true,y_preds)\n",
    "    print('opt_cutoff:',opt_cutoff)\n",
    "    print('f1 score:',f1score)\n",
    "    pred_labels = convert_probtolabels(y_preds,cutoff=opt_cutoff)\n",
    "    print('conf matrix:',confusion_matrix(y_true,pred_labels))\n",
    "    return opt_cutoff,f1score,pred_labels"
   ]
  },
  {
   "cell_type": "code",
   "execution_count": 35,
   "metadata": {},
   "outputs": [],
   "source": [
    "# train_df_copy = train_df.copy()\n",
    "# test_df_copy = test_df.copy()\n",
    "# target_copy = target.copy()"
   ]
  },
  {
   "cell_type": "code",
   "execution_count": 36,
   "metadata": {},
   "outputs": [],
   "source": [
    "# #temporary test split \n",
    "# random_fold = 0\n",
    "\n",
    "# folds = StratifiedKFold(n_splits=5, shuffle=False, random_state=1000)\n",
    "# for fold_, (trn_idx, val_idx) in enumerate(folds.split(train_df.values, target.values)):\n",
    "    \n",
    "#     if fold_!=random_fold:\n",
    "#         continue\n",
    "#     new_train = train_df.iloc[trn_idx]\n",
    "#     new_test =  train_df.iloc[val_idx]\n",
    "#     new_target = target.iloc[trn_idx]\n",
    "#     test_target = target.iloc[val_idx]\n",
    "#     break\n",
    "    \n",
    "\n",
    "# train_df = new_train.copy()\n",
    "# test_df = new_test.copy()\n",
    "# target=new_target.copy()\n",
    "\n",
    "# print(train_df.shape,test_df.shape)"
   ]
  },
  {
   "cell_type": "code",
   "execution_count": 37,
   "metadata": {},
   "outputs": [],
   "source": [
    "# train_df = train_df_copy.copy()\n",
    "# test_df = test_df_copy.copy()\n",
    "# target  = target_copy.copy()"
   ]
  },
  {
   "cell_type": "code",
   "execution_count": 38,
   "metadata": {},
   "outputs": [],
   "source": [
    "def runlgb(train_df,test_df,target,n_splits=5, random_state=888):\n",
    "    \n",
    "    folds = StratifiedKFold(n_splits=n_splits, shuffle=False, random_state=random_state)\n",
    "    oof = np.zeros(len(train_df))\n",
    "    predictions = np.zeros(len(test_df))\n",
    "    feature_importance_df = pd.DataFrame()\n",
    "\n",
    "    for fold_, (trn_idx, val_idx) in enumerate(folds.split(train_df.values, target.values)):\n",
    "\n",
    "        train_cur = train_df.iloc[trn_idx][features]\n",
    "        val_cur = train_df.iloc[val_idx][features]\n",
    "        target_cur = target.iloc[trn_idx]\n",
    "        target_val_cur = target.iloc[val_idx]\n",
    "\n",
    "        print(\"Fold {}\".format(fold_))\n",
    "        trn_data = lgb.Dataset(train_cur, label=target_cur)\n",
    "        val_data = lgb.Dataset(val_cur, label=target_val_cur)\n",
    "\n",
    "        num_round = 1000000\n",
    "        clf = lgb.train(param, trn_data, num_round, valid_sets = [trn_data, val_data], \n",
    "                        verbose_eval=100, \n",
    "#                         feval=lgb_logle,\n",
    "                        early_stopping_rounds = early_stopping_rounds)\n",
    "        oof[val_idx] = clf.predict(val_cur, num_iteration=clf.best_iteration)\n",
    "        computef1scoreandconfmatrix(target_val_cur,oof[val_idx]) \n",
    "        print(\"AUC score: {:<8.5f}\".format(roc_auc_score(target_val_cur,oof[val_idx])))\n",
    "\n",
    "        fold_importance_df = pd.DataFrame()\n",
    "        fold_importance_df[\"Feature\"] = features\n",
    "        fold_importance_df[\"importance\"] = clf.feature_importance()\n",
    "        fold_importance_df[\"fold\"] = fold_ + 1\n",
    "        feature_importance_df = pd.concat([feature_importance_df, fold_importance_df], axis=0)\n",
    "\n",
    "        predictions += clf.predict(test_df[features], num_iteration=clf.best_iteration) / folds.n_splits\n",
    "\n",
    "    print()\n",
    "    print(\"CV AUC score: {:<8.5f}\".format(roc_auc_score(target, oof)))\n",
    "    opt_cutoff, f1score, oof_labels = computef1scoreandconfmatrix(target,oof)\n",
    "    predictions_labels = convert_probtolabels(predictions,cutoff=opt_cutoff)\n",
    "    \n",
    "    return oof,predictions,oof_labels, predictions_labels,feature_importance_df"
   ]
  },
  {
   "cell_type": "code",
   "execution_count": 39,
   "metadata": {},
   "outputs": [
    {
     "name": "stdout",
     "output_type": "stream",
     "text": [
      "Fold 0\n",
      "Training until validation scores don't improve for 300 rounds.\n",
      "[100]\ttraining's auc: 0.720615\tvalid_1's auc: 0.684586\n",
      "[200]\ttraining's auc: 0.730771\tvalid_1's auc: 0.688995\n",
      "[300]\ttraining's auc: 0.738782\tvalid_1's auc: 0.690719\n",
      "[400]\ttraining's auc: 0.745282\tvalid_1's auc: 0.69036\n",
      "[500]\ttraining's auc: 0.751519\tvalid_1's auc: 0.689761\n",
      "Early stopping, best iteration is:\n",
      "[284]\ttraining's auc: 0.737667\tvalid_1's auc: 0.691042\n",
      "opt_cutoff: 0.16892730542986156\n",
      "f1 score: 0.1472\n",
      "conf matrix: [[41154  4196]\n",
      " [ 1668   505]]\n",
      "AUC score: 0.69104 \n",
      "Fold 1\n",
      "Training until validation scores don't improve for 300 rounds.\n",
      "[100]\ttraining's auc: 0.720818\tvalid_1's auc: 0.687568\n",
      "[200]\ttraining's auc: 0.730041\tvalid_1's auc: 0.69006\n",
      "[300]\ttraining's auc: 0.73732\tvalid_1's auc: 0.691404\n",
      "[400]\ttraining's auc: 0.743384\tvalid_1's auc: 0.691894\n",
      "[500]\ttraining's auc: 0.749204\tvalid_1's auc: 0.692448\n",
      "[600]\ttraining's auc: 0.75495\tvalid_1's auc: 0.692671\n",
      "[700]\ttraining's auc: 0.760317\tvalid_1's auc: 0.693304\n",
      "[800]\ttraining's auc: 0.765572\tvalid_1's auc: 0.694086\n",
      "[900]\ttraining's auc: 0.770273\tvalid_1's auc: 0.69426\n",
      "[1000]\ttraining's auc: 0.774752\tvalid_1's auc: 0.69428\n",
      "[1100]\ttraining's auc: 0.778944\tvalid_1's auc: 0.694866\n",
      "[1200]\ttraining's auc: 0.782776\tvalid_1's auc: 0.695216\n",
      "[1300]\ttraining's auc: 0.786357\tvalid_1's auc: 0.695514\n",
      "[1400]\ttraining's auc: 0.789668\tvalid_1's auc: 0.695424\n",
      "[1500]\ttraining's auc: 0.792924\tvalid_1's auc: 0.695513\n",
      "[1600]\ttraining's auc: 0.796214\tvalid_1's auc: 0.695669\n",
      "[1700]\ttraining's auc: 0.799413\tvalid_1's auc: 0.695643\n",
      "[1800]\ttraining's auc: 0.802451\tvalid_1's auc: 0.695394\n",
      "[1900]\ttraining's auc: 0.805251\tvalid_1's auc: 0.695328\n",
      "Early stopping, best iteration is:\n",
      "[1605]\ttraining's auc: 0.79636\tvalid_1's auc: 0.695704\n",
      "opt_cutoff: 0.13586746680963976\n",
      "f1 score: 0.15307923979644822\n",
      "conf matrix: [[38631  6719]\n",
      " [ 1437   736]]\n",
      "AUC score: 0.69570 \n",
      "Fold 2\n",
      "Training until validation scores don't improve for 300 rounds.\n",
      "[100]\ttraining's auc: 0.721057\tvalid_1's auc: 0.692907\n",
      "[200]\ttraining's auc: 0.730528\tvalid_1's auc: 0.694655\n",
      "[300]\ttraining's auc: 0.738267\tvalid_1's auc: 0.69507\n",
      "[400]\ttraining's auc: 0.744546\tvalid_1's auc: 0.695021\n",
      "[500]\ttraining's auc: 0.750368\tvalid_1's auc: 0.695376\n",
      "[600]\ttraining's auc: 0.755977\tvalid_1's auc: 0.695689\n",
      "[700]\ttraining's auc: 0.761058\tvalid_1's auc: 0.696126\n",
      "[800]\ttraining's auc: 0.766097\tvalid_1's auc: 0.696586\n",
      "[900]\ttraining's auc: 0.770668\tvalid_1's auc: 0.697174\n",
      "[1000]\ttraining's auc: 0.774813\tvalid_1's auc: 0.697552\n",
      "[1100]\ttraining's auc: 0.778942\tvalid_1's auc: 0.697921\n",
      "[1200]\ttraining's auc: 0.782457\tvalid_1's auc: 0.698009\n",
      "[1300]\ttraining's auc: 0.786024\tvalid_1's auc: 0.698297\n",
      "[1400]\ttraining's auc: 0.789336\tvalid_1's auc: 0.698455\n",
      "[1500]\ttraining's auc: 0.792573\tvalid_1's auc: 0.698555\n",
      "[1600]\ttraining's auc: 0.795901\tvalid_1's auc: 0.698495\n",
      "[1700]\ttraining's auc: 0.799084\tvalid_1's auc: 0.698556\n",
      "[1800]\ttraining's auc: 0.802313\tvalid_1's auc: 0.698633\n",
      "[1900]\ttraining's auc: 0.805268\tvalid_1's auc: 0.698733\n",
      "[2000]\ttraining's auc: 0.80832\tvalid_1's auc: 0.698532\n",
      "[2100]\ttraining's auc: 0.810988\tvalid_1's auc: 0.698438\n",
      "[2200]\ttraining's auc: 0.813575\tvalid_1's auc: 0.698346\n",
      "Early stopping, best iteration is:\n",
      "[1929]\ttraining's auc: 0.806269\tvalid_1's auc: 0.698784\n",
      "opt_cutoff: 0.12286813932810955\n",
      "f1 score: 0.15784357048166153\n",
      "conf matrix: [[37099  8250]\n",
      " [ 1280   892]]\n",
      "AUC score: 0.69878 \n",
      "Fold 3\n",
      "Training until validation scores don't improve for 300 rounds.\n",
      "[100]\ttraining's auc: 0.720816\tvalid_1's auc: 0.694465\n",
      "[200]\ttraining's auc: 0.729929\tvalid_1's auc: 0.695771\n",
      "[300]\ttraining's auc: 0.736834\tvalid_1's auc: 0.696062\n",
      "[400]\ttraining's auc: 0.743068\tvalid_1's auc: 0.695792\n",
      "[500]\ttraining's auc: 0.748884\tvalid_1's auc: 0.695626\n",
      "Early stopping, best iteration is:\n",
      "[257]\ttraining's auc: 0.734048\tvalid_1's auc: 0.696204\n",
      "opt_cutoff: 0.13562082075003914\n",
      "f1 score: 0.15180697939318627\n",
      "conf matrix: [[38597  6752]\n",
      " [ 1440   732]]\n",
      "AUC score: 0.69620 \n",
      "Fold 4\n",
      "Training until validation scores don't improve for 300 rounds.\n",
      "[100]\ttraining's auc: 0.718639\tvalid_1's auc: 0.693558\n",
      "[200]\ttraining's auc: 0.727579\tvalid_1's auc: 0.698837\n",
      "[300]\ttraining's auc: 0.734512\tvalid_1's auc: 0.700905\n",
      "[400]\ttraining's auc: 0.740876\tvalid_1's auc: 0.70145\n",
      "[500]\ttraining's auc: 0.746963\tvalid_1's auc: 0.702021\n",
      "[600]\ttraining's auc: 0.75258\tvalid_1's auc: 0.702498\n",
      "[700]\ttraining's auc: 0.75783\tvalid_1's auc: 0.702536\n",
      "[800]\ttraining's auc: 0.762765\tvalid_1's auc: 0.702851\n",
      "[900]\ttraining's auc: 0.767518\tvalid_1's auc: 0.703523\n",
      "[1000]\ttraining's auc: 0.771895\tvalid_1's auc: 0.703865\n",
      "[1100]\ttraining's auc: 0.776168\tvalid_1's auc: 0.703923\n",
      "[1200]\ttraining's auc: 0.780261\tvalid_1's auc: 0.704213\n",
      "[1300]\ttraining's auc: 0.783965\tvalid_1's auc: 0.704193\n",
      "[1400]\ttraining's auc: 0.787547\tvalid_1's auc: 0.704262\n",
      "[1500]\ttraining's auc: 0.791024\tvalid_1's auc: 0.704375\n",
      "[1600]\ttraining's auc: 0.794535\tvalid_1's auc: 0.704325\n",
      "[1700]\ttraining's auc: 0.79809\tvalid_1's auc: 0.704548\n",
      "[1800]\ttraining's auc: 0.801002\tvalid_1's auc: 0.704461\n",
      "[1900]\ttraining's auc: 0.804019\tvalid_1's auc: 0.704522\n",
      "[2000]\ttraining's auc: 0.80682\tvalid_1's auc: 0.704438\n",
      "Early stopping, best iteration is:\n",
      "[1740]\ttraining's auc: 0.799356\tvalid_1's auc: 0.704619\n",
      "opt_cutoff: 0.15029758026754825\n",
      "f1 score: 0.15814994405072735\n",
      "conf matrix: [[40115  5234]\n",
      " [ 1537   635]]\n",
      "AUC score: 0.70462 \n",
      "\n",
      "CV AUC score: 0.69625 \n",
      "opt_cutoff: 0.1356473749199889\n",
      "f1 score: 0.14993362412289019\n",
      "conf matrix: [[188833  37914]\n",
      " [  6910   3952]]\n"
     ]
    }
   ],
   "source": [
    "# param['n_estimators'] = 10\n",
    "oof,predictions,oof_labels, predictions_labels,feature_importance_df = \\\n",
    "                runlgb(train_df,test_df,target)"
   ]
  },
  {
   "cell_type": "code",
   "execution_count": 40,
   "metadata": {},
   "outputs": [],
   "source": [
    "np.save('oof.npy',oof)\n",
    "np.save('predictions.npy',predictions)"
   ]
  },
  {
   "cell_type": "code",
   "execution_count": 41,
   "metadata": {},
   "outputs": [
    {
     "name": "stdout",
     "output_type": "stream",
     "text": [
      "                      impression_id  is_click\n",
      "0  a9e7126a585a69a32bc7414e9d0c0ada  0.109584\n",
      "1  caac14a5bf2ba283db7708bb34855760  0.013094\n",
      "2  13f10ba306a19ce7bec2f3cae507b698  0.139422\n",
      "3  39c4b4dc0e9701b55a0a4f072008fb3f  0.023727\n",
      "4  bf5a572cca75f5fc67f4b14e58b11d70  0.178510\n"
     ]
    }
   ],
   "source": [
    "sub_df = pd.DataFrame({\"impression_id\":test_df[\"impression_id\"].values})\n",
    "sub_df[targetcol] = predictions\n",
    "print(sub_df.head())\n",
    "sub_df.to_csv(\"submission.csv\", index=False)"
   ]
  },
  {
   "cell_type": "code",
   "execution_count": 42,
   "metadata": {},
   "outputs": [
    {
     "data": {
      "image/png": "[encoded data removed]",
      "text/plain": [
       "<Figure size 1008x2016 with 1 Axes>"
      ]
     },
     "metadata": {},
     "output_type": "display_data"
    }
   ],
   "source": [
    "cols = (feature_importance_df[[\"Feature\", \"importance\"]]\n",
    "        .groupby(\"Feature\")\n",
    "        .mean()\n",
    "        .sort_values(by=\"importance\", ascending=False)[:150].index)\n",
    "best_features = feature_importance_df.loc[feature_importance_df.Feature.isin(cols)]\n",
    "\n",
    "plt.figure(figsize=(14,28))\n",
    "sns.barplot(x=\"importance\", y=\"Feature\", data=best_features.sort_values(by=\"importance\",ascending=False))\n",
    "plt.title('Features importance (averaged/folds)')\n",
    "plt.tight_layout()\n",
    "plt.savefig('FI.png')"
   ]
  }
 ],
 "metadata": {
  "kernelspec": {
   "display_name": "Python 3",
   "language": "python",
   "name": "python3"
  },
  "language_info": {
   "codemirror_mode": {
    "name": "ipython",
    "version": 3
   },
   "file_extension": ".py",
   "mimetype": "text/x-python",
   "name": "python",
   "nbconvert_exporter": "python",
   "pygments_lexer": "ipython3",
   "version": "3.6.6"
  }
 },
 "nbformat": 4,
 "nbformat_minor": 1
}
